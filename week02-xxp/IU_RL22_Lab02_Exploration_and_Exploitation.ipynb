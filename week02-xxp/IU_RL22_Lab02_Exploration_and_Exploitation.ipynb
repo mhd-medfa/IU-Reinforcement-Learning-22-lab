{
  "nbformat": 4,
  "nbformat_minor": 0,
  "metadata": {
    "colab": {
      "provenance": []
    },
    "kernelspec": {
      "name": "python3",
      "display_name": "Python 3"
    },
    "language_info": {
      "name": "python"
    }
  },
  "cells": [
    {
      "cell_type": "markdown",
      "source": [
        "Open this [link](https://rl-lab.com/multi-armed-bandits/)"
      ],
      "metadata": {
        "id": "4i-UF44JQuuW"
      }
    },
    {
      "cell_type": "code",
      "execution_count": 2,
      "metadata": {
        "id": "Kgc_nCo10vHN"
      },
      "outputs": [],
      "source": [
        "from abc import ABCMeta, abstractmethod, abstractproperty\n",
        "import enum\n",
        "\n",
        "import numpy as np\n",
        "np.set_printoptions(precision=3)\n",
        "np.set_printoptions(suppress=True)\n",
        "\n",
        "import pandas\n",
        "\n",
        "import matplotlib.pyplot as plt\n",
        "%matplotlib inline"
      ]
    },
    {
      "cell_type": "markdown",
      "metadata": {
        "id": "Hzpz05vH0vHP"
      },
      "source": [
        "## Part 1. Bernoulli Bandit\n",
        "\n",
        "We are going to implement several exploration strategies for simplest problem - bernoulli bandit.\n",
        "\n",
        "The bandit has $K$ actions. Action produce 1.0 reward $r$ with probability $0 \\le \\theta_k \\le 1$ which is unknown to agent, but fixed over time. Agent's objective is to minimize regret over fixed number $T$ of action selections:\n",
        "\n",
        "$$\\rho = T\\theta^* - \\sum_{t=1}^T r_t$$\n",
        "\n",
        "Where $\\theta^* = \\max_k\\{\\theta_k\\}$\n",
        "\n",
        "**Real-world analogy:**\n",
        "\n",
        "Clinical trials - we have $K$ pills and $T$ ill patient. After taking pill, patient is cured with probability $\\theta_k$. Task is to find most efficient pill.\n",
        "\n",
        "A research on clinical trials - https://arxiv.org/pdf/1507.08025.pdf"
      ]
    },
    {
      "cell_type": "code",
      "execution_count": 3,
      "metadata": {
        "id": "m0p3R44Z0vHQ"
      },
      "outputs": [],
      "source": [
        "class BernoulliBandit:\n",
        "  def __init__(self, n_actions=5):\n",
        "    self._probs = np.random.random(n_actions)\n",
        "  \n",
        "  @property\n",
        "  def action_count(self):\n",
        "    return len(self._probs)\n",
        "  \n",
        "  def pull(self, action):\n",
        "    if np.random.random() < self._probs[action]:\n",
        "      return 1.0\n",
        "    return 0.0\n",
        "\n",
        "  def optimal_reward(self):\n",
        "    return np.max(self._probs)\n",
        "  \n",
        "  def reset(self):\n",
        "    pass\n",
        "  def step(self):\n",
        "    pass\n"
      ]
    },
    {
      "cell_type": "code",
      "execution_count": 4,
      "metadata": {
        "id": "BzQGvXXH0vHQ"
      },
      "outputs": [],
      "source": [
        "class AbstractAgent(metaclass=ABCMeta):\n",
        "    def init_actions(self, n_actions=5):\n",
        "      self._successes = np.zeros(n_actions)\n",
        "      self._failures = np.zeros(n_actions)\n",
        "      self._total_pulls = 0\n",
        "      self.n_actions = n_actions\n",
        "\n",
        "\n",
        "    @abstractmethod\n",
        "    def get_action(self):\n",
        "        \"\"\"\n",
        "        Get current best action\n",
        "        :rtype: int\n",
        "        \"\"\"\n",
        "        pass\n",
        "\n",
        "    def update(self, action, reward):\n",
        "        \"\"\"\n",
        "        Observe reward from action and update agent's internal parameters\n",
        "        :type action: int\n",
        "        :type reward: int\n",
        "        \"\"\"\n",
        "        if reward == 1:\n",
        "          self._successes[action] += 1\n",
        "        else: self._failures[action] += 1\n",
        "\n",
        "        self._total_pulls += 1\n",
        "\n",
        "    @property\n",
        "    def name(self):\n",
        "        return self.__class__.__name__\n",
        "\n",
        "\n",
        "class RandomAgent(AbstractAgent):\n",
        "    def get_action(self):\n",
        "        return np.random.randint(self.n_actions)"
      ]
    },
    {
      "cell_type": "markdown",
      "metadata": {
        "id": "ytpRyo_A0vHR"
      },
      "source": [
        "### Epsilon-greedy agent\n",
        "\n",
        "**for** $t = 1,2,...$ **do**\n",
        "\n",
        "&nbsp;&nbsp; **for** $k = 1,...,K$ **do**\n",
        "\n",
        "&nbsp;&nbsp;&nbsp;&nbsp;&nbsp;&nbsp; $\\hat\\theta_k \\leftarrow \\alpha_k / (\\alpha_k + \\beta_k)$\n",
        "\n",
        "&nbsp;&nbsp; **end for** \n",
        "\n",
        "&nbsp;&nbsp; $x_t \\leftarrow argmax_{k}\\hat\\theta$ with probability $1 - \\epsilon$ or random action with probability $\\epsilon$\n",
        "\n",
        "&nbsp;&nbsp; Apply $x_t$ and observe $r_t$\n",
        "\n",
        "&nbsp;&nbsp; $(\\alpha_{x_t}, \\beta_{x_t}) \\leftarrow (\\alpha_{x_t}, \\beta_{x_t}) + (r_t, 1-r_t)$\n",
        "\n",
        "**end for**\n",
        "\n",
        "Implement the algorithm above in the cell below:"
      ]
    },
    {
      "cell_type": "code",
      "execution_count": 5,
      "metadata": {
        "id": "i6cDYFBO0vHR"
      },
      "outputs": [],
      "source": [
        "class EpsilonGreedyAgent(AbstractAgent):\n",
        "    def __init__(self, epsilon=0.01):\n",
        "        self._epsilon = epsilon\n",
        "\n",
        "    def get_action(self):\n",
        "        if np.random.random() < self._epsilon:\n",
        "          return np.random.randint(self.n_actions)\n",
        "        else:\n",
        "          return np.argmax(self._successes / (self._successes + self._failures + 0.1))\n",
        "\n",
        "\n",
        "    @property\n",
        "    def name(self):\n",
        "        return self.__class__.__name__ + \"(epsilon={})\".format(self._epsilon)"
      ]
    },
    {
      "cell_type": "markdown",
      "metadata": {
        "id": "EzqWr5rT0vHR"
      },
      "source": [
        "### UCB Agent\n",
        "Epsilon-greedy strategy have no preference for actions. It would be better to select among actions that are uncertain or have potential to be optimal. One can come up with idea of index for each action that represents optimality and uncertainty at the same time. One efficient way to do it is to use UCB1 algorithm:\n",
        "\n",
        "**for** $t = 1,2,...$ **do**\n",
        "\n",
        "&nbsp;&nbsp; **for** $k = 1,...,K$ **do**\n",
        "\n",
        "&nbsp;&nbsp;&nbsp;&nbsp;&nbsp;&nbsp; $w_k \\leftarrow \\alpha_k / (\\alpha_k + \\beta_k) + \\sqrt{2\\log(t) \\ / \\ (\\alpha_k + \\beta_k)}$\n",
        "\n",
        "&nbsp;&nbsp; **end for** \n",
        "\n",
        "&nbsp;&nbsp; **end for** \n",
        " $x_t \\leftarrow argmax_{k}w$\n",
        "\n",
        "&nbsp;&nbsp; Apply $x_t$ and observe $r_t$\n",
        "\n",
        "&nbsp;&nbsp; $(\\alpha_{x_t}, \\beta_{x_t}) \\leftarrow (\\alpha_{x_t}, \\beta_{x_t}) + (r_t, 1-r_t)$\n",
        "\n",
        "**end for**\n",
        "\n",
        "__Note:__ in practice, one can multiply $\\sqrt{2\\log(t) \\ / \\ (\\alpha_k + \\beta_k)}$ by some tunable parameter to regulate agent's optimism and wilingness to abandon non-promising actions.\n",
        "\n",
        "More versions and optimality analysis - https://homes.di.unimi.it/~cesabian/Pubblicazioni/ml-02.pdf"
      ]
    },
    {
      "cell_type": "code",
      "execution_count": 6,
      "metadata": {
        "id": "-Jx8a3Rd0vHS"
      },
      "outputs": [],
      "source": [
        "class UCBAgent(AbstractAgent):\n",
        "    def get_action(self):\n",
        "      pulls = self._failures + self._successes + 1e-5\n",
        "      return np.argmax(self._successes / pulls +\\\n",
        "                       np.sqrt(2 * np.log(self._total_pulls + 1e-5) / pulls))"
      ]
    },
    {
      "cell_type": "markdown",
      "source": [
        "## Homework\n",
        "Your assignment is to solve the Bernoulli Bandit problem using Thompson sampling algorithm.\n",
        "\n",
        "1- Based on your understanding write down the pseudo-code for Thompson sampling algorithm.\n",
        "\n",
        "2- Implement the `get_action(self)` in the cell below.\n",
        "\n",
        "3- Explain in detail the results you got in comparison with UCB and $\\epsilon$-Greedy.\n",
        "\n",
        "\n",
        "**Note:** Your grade will be based on your understanding of the algorithm and your analysis to the results. Cheating will be punished by 50% deduction for the first time and will get 0 in the second time. \n",
        "\n",
        "### Thompson sampling\n",
        "< Write Your Solution HERE >\n",
        "\n",
        "More on Thompson Sampling:\n",
        "https://web.stanford.edu/~bvr/pubs/TS_Tutorial.pdf"
      ],
      "metadata": {
        "id": "1qMDh5Bis0aK"
      }
    },
    {
      "cell_type": "code",
      "source": [
        "class ThompsonSamplingAgent(AbstractAgent):\n",
        "    def get_action(self):\n",
        "        \"\"\"\n",
        "        <Write Your Solution Here>\n",
        "        \"\"\"\n",
        "        pass"
      ],
      "metadata": {
        "id": "ZWE4FRaDs1l3"
      },
      "execution_count": 7,
      "outputs": []
    },
    {
      "cell_type": "code",
      "execution_count": 8,
      "metadata": {
        "id": "RIJTr4j10vHT"
      },
      "outputs": [],
      "source": [
        "from collections import OrderedDict\n",
        "\n",
        "def get_regret(env, agents, n_steps=5000, n_trials=50):\n",
        "    scores = OrderedDict({\n",
        "      agent.name: [0.0]*n_steps for agent in agents\n",
        "    })\n",
        "\n",
        "    for trial in range(n_trials):\n",
        "        env.reset()\n",
        "\n",
        "        for agent in agents:\n",
        "            agent.init_actions(env.action_count)\n",
        "\n",
        "        for i in range(n_steps):\n",
        "            optimal_reward = env.optimal_reward()\n",
        "\n",
        "            for agent in agents:\n",
        "                action = agent.get_action()\n",
        "                reward = env.pull(action)\n",
        "                agent.update(action, reward)\n",
        "                scores[agent.name][i] += optimal_reward - reward\n",
        "\n",
        "            env.step()  # change bandit's state if it is unstationary\n",
        "\n",
        "    for agent in agents:\n",
        "        scores[agent.name] = np.cumsum(scores[agent.name]) / n_trials\n",
        "\n",
        "    return scores\n",
        "\n",
        "def plot_regret(agents, scores):\n",
        "    for agent in agents:\n",
        "        plt.plot(scores[agent.name])\n",
        "\n",
        "    plt.legend([agent.name for agent in agents])\n",
        "\n",
        "    plt.ylabel(\"regret\")\n",
        "    plt.xlabel(\"steps\")\n",
        "\n",
        "    plt.show()"
      ]
    },
    {
      "cell_type": "code",
      "execution_count": 9,
      "metadata": {
        "id": "s2uISH8y0vHT",
        "outputId": "9925c50a-dd4a-4f01-81dc-4ca8863e6da0",
        "colab": {
          "base_uri": "https://localhost:8080/",
          "height": 335
        }
      },
      "outputs": [
        {
          "output_type": "stream",
          "name": "stderr",
          "text": [
            "/usr/local/lib/python3.7/dist-packages/ipykernel_launcher.py:5: RuntimeWarning: invalid value encountered in sqrt\n",
            "  \"\"\"\n"
          ]
        },
        {
          "output_type": "display_data",
          "data": {
            "text/plain": [
              "<Figure size 432x288 with 1 Axes>"
            ],
            "image/png": "[encoded data removed]"
          },
          "metadata": {
            "needs_background": "light"
          }
        }
      ],
      "source": [
        "# Uncomment agents\n",
        "agents = [\n",
        "    EpsilonGreedyAgent(),\n",
        "    UCBAgent(),\n",
        "]\n",
        "\n",
        "regret = get_regret(BernoulliBandit(), agents, n_steps=10000, n_trials=10)\n",
        "plot_regret(agents, regret)"
      ]
    },
    {
      "cell_type": "code",
      "source": [],
      "metadata": {
        "id": "66GgqezuYF9g"
      },
      "execution_count": 9,
      "outputs": []
    }
  ]
}